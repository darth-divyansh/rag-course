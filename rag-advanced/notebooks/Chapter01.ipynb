{
  "cells": [
    {
      "cell_type": "markdown",
      "metadata": {
        "id": "dny4hAWFxZ49"
      },
      "source": [
        "# Chapter 1\n",
        "\n",
        "<a target=\"_blank\" href=\"https://colab.research.google.com/github/wandb/edu/blob/main/rag-advanced/notebooks/Chapter01.ipynb\">\n",
        "  <img src=\"https://colab.research.google.com/assets/colab-badge.svg\" alt=\"Open In Colab\"/>\n",
        "</a>\n",
        "\n",
        "<!--- @wandbcode{rag-course-01} -->\n",
        "\n",
        "In this chapter, we will learn about building a simple RAG pipeline. We will mainly focus on how to preprocess and chunk the data followed by building a simple retrieval engine without using any fancy \"Vector Index\". The idea is to show the inner working of a retrieval pipeline and make you understand the workflow from a user query to a generated response using an LLM.\n",
        "\n",
        "For this chapter you will need a Cohere API key and a Weights & Biases account. Run the next cell to pull the github repo and install the dependencies."
      ]
    },
    {
      "cell_type": "code",
      "execution_count": null,
      "metadata": {
        "colab": {
          "base_uri": "https://localhost:8080/"
        },
        "id": "ExbSJDhyxZ4_",
        "outputId": "2d056ee4-722c-4b1c-8dad-e03a1ca6d176"
      },
      "outputs": [
        {
          "output_type": "stream",
          "name": "stdout",
          "text": [
            "Cloning into 'edu'...\n",
            "remote: Enumerating objects: 4807, done.\u001b[K\n",
            "remote: Counting objects: 100% (1207/1207), done.\u001b[K\n",
            "remote: Compressing objects: 100% (395/395), done.\u001b[K\n",
            "remote: Total 4807 (delta 1012), reused 819 (delta 812), pack-reused 3600 (from 2)\u001b[K\n",
            "Receiving objects: 100% (4807/4807), 41.93 MiB | 17.07 MiB/s, done.\n",
            "Resolving deltas: 100% (2634/2634), done.\n",
            "/content/edu/rag-advanced\n",
            "\u001b[2K     \u001b[90m━━━━━━━━━━━━━━━━━━━━━━━━━━━━━━━━━━━━━━━━\u001b[0m \u001b[32m62.0/62.0 kB\u001b[0m \u001b[31m2.8 MB/s\u001b[0m eta \u001b[36m0:00:00\u001b[0m\n",
            "\u001b[?25h  Preparing metadata (setup.py) ... \u001b[?25l\u001b[?25hdone\n",
            "  Preparing metadata (setup.py) ... \u001b[?25l\u001b[?25hdone\n",
            "\u001b[2K     \u001b[90m━━━━━━━━━━━━━━━━━━━━━━━━━━━━━━━━━━━━━━━━\u001b[0m \u001b[32m73.4/73.4 kB\u001b[0m \u001b[31m5.3 MB/s\u001b[0m eta \u001b[36m0:00:00\u001b[0m\n",
            "\u001b[?25h  Installing build dependencies ... \u001b[?25l\u001b[?25hdone\n",
            "  Getting requirements to build wheel ... \u001b[?25l\u001b[?25hdone\n",
            "  Preparing metadata (pyproject.toml) ... \u001b[?25l\u001b[?25hdone\n",
            "  Preparing metadata (setup.py) ... \u001b[?25l\u001b[?25hdone\n",
            "  Preparing metadata (setup.py) ... \u001b[?25l\u001b[?25hdone\n",
            "\u001b[2K   \u001b[90m━━━━━━━━━━━━━━━━━━━━━━━━━━━━━━━━━━━━━━━━\u001b[0m \u001b[32m354.4/354.4 kB\u001b[0m \u001b[31m11.1 MB/s\u001b[0m eta \u001b[36m0:00:00\u001b[0m\n",
            "\u001b[2K   \u001b[90m━━━━━━━━━━━━━━━━━━━━━━━━━━━━━━━━━━━━━━━━\u001b[0m \u001b[32m252.5/252.5 kB\u001b[0m \u001b[31m15.6 MB/s\u001b[0m eta \u001b[36m0:00:00\u001b[0m\n",
            "\u001b[2K   \u001b[90m━━━━━━━━━━━━━━━━━━━━━━━━━━━━━━━━━━━━━━━━\u001b[0m \u001b[32m162.7/162.7 kB\u001b[0m \u001b[31m10.1 MB/s\u001b[0m eta \u001b[36m0:00:00\u001b[0m\n",
            "\u001b[2K   \u001b[90m━━━━━━━━━━━━━━━━━━━━━━━━━━━━━━━━━━━━━━━━\u001b[0m \u001b[32m264.5/264.5 kB\u001b[0m \u001b[31m16.5 MB/s\u001b[0m eta \u001b[36m0:00:00\u001b[0m\n",
            "\u001b[2K   \u001b[90m━━━━━━━━━━━━━━━━━━━━━━━━━━━━━━━━━━━━━━━━\u001b[0m \u001b[32m99.3/99.3 kB\u001b[0m \u001b[31m7.1 MB/s\u001b[0m eta \u001b[36m0:00:00\u001b[0m\n",
            "\u001b[2K   \u001b[90m━━━━━━━━━━━━━━━━━━━━━━━━━━━━━━━━━━━━━━━━\u001b[0m \u001b[32m53.6/53.6 kB\u001b[0m \u001b[31m3.8 MB/s\u001b[0m eta \u001b[36m0:00:00\u001b[0m\n",
            "\u001b[2K   \u001b[90m━━━━━━━━━━━━━━━━━━━━━━━━━━━━━━━━━━━━━━━━\u001b[0m \u001b[32m669.3/669.3 kB\u001b[0m \u001b[31m25.4 MB/s\u001b[0m eta \u001b[36m0:00:00\u001b[0m\n",
            "\u001b[2K   \u001b[90m━━━━━━━━━━━━━━━━━━━━━━━━━━━━━━━━━━━━━━━━\u001b[0m \u001b[32m40.6/40.6 MB\u001b[0m \u001b[31m16.0 MB/s\u001b[0m eta \u001b[36m0:00:00\u001b[0m\n",
            "\u001b[2K   \u001b[90m━━━━━━━━━━━━━━━━━━━━━━━━━━━━━━━━━━━━━━━━\u001b[0m \u001b[32m1.2/1.2 MB\u001b[0m \u001b[31m39.1 MB/s\u001b[0m eta \u001b[36m0:00:00\u001b[0m\n",
            "\u001b[2K   \u001b[90m━━━━━━━━━━━━━━━━━━━━━━━━━━━━━━━━━━━━━━━━\u001b[0m \u001b[32m590.6/590.6 kB\u001b[0m \u001b[31m33.4 MB/s\u001b[0m eta \u001b[36m0:00:00\u001b[0m\n",
            "\u001b[2K   \u001b[90m━━━━━━━━━━━━━━━━━━━━━━━━━━━━━━━━━━━━━━━━\u001b[0m \u001b[32m3.3/3.3 MB\u001b[0m \u001b[31m85.9 MB/s\u001b[0m eta \u001b[36m0:00:00\u001b[0m\n",
            "\u001b[2K   \u001b[90m━━━━━━━━━━━━━━━━━━━━━━━━━━━━━━━━━━━━━━━━\u001b[0m \u001b[32m3.1/3.1 MB\u001b[0m \u001b[31m82.6 MB/s\u001b[0m eta \u001b[36m0:00:00\u001b[0m\n",
            "\u001b[2K   \u001b[90m━━━━━━━━━━━━━━━━━━━━━━━━━━━━━━━━━━━━━━━━\u001b[0m \u001b[32m325.8/325.8 kB\u001b[0m \u001b[31m21.4 MB/s\u001b[0m eta \u001b[36m0:00:00\u001b[0m\n",
            "\u001b[2K   \u001b[90m━━━━━━━━━━━━━━━━━━━━━━━━━━━━━━━━━━━━━━━━\u001b[0m \u001b[32m249.2/249.2 kB\u001b[0m \u001b[31m16.0 MB/s\u001b[0m eta \u001b[36m0:00:00\u001b[0m\n",
            "\u001b[2K   \u001b[90m━━━━━━━━━━━━━━━━━━━━━━━━━━━━━━━━━━━━━━━━\u001b[0m \u001b[32m1.8/1.8 MB\u001b[0m \u001b[31m61.0 MB/s\u001b[0m eta \u001b[36m0:00:00\u001b[0m\n",
            "\u001b[2K   \u001b[90m━━━━━━━━━━━━━━━━━━━━━━━━━━━━━━━━━━━━━━━━\u001b[0m \u001b[32m347.9/347.9 kB\u001b[0m \u001b[31m22.7 MB/s\u001b[0m eta \u001b[36m0:00:00\u001b[0m\n",
            "\u001b[2K   \u001b[90m━━━━━━━━━━━━━━━━━━━━━━━━━━━━━━━━━━━━━━━━\u001b[0m \u001b[32m1.3/1.3 MB\u001b[0m \u001b[31m50.5 MB/s\u001b[0m eta \u001b[36m0:00:00\u001b[0m\n",
            "\u001b[2K   \u001b[90m━━━━━━━━━━━━━━━━━━━━━━━━━━━━━━━━━━━━━━━━\u001b[0m \u001b[32m203.4/203.4 kB\u001b[0m \u001b[31m12.9 MB/s\u001b[0m eta \u001b[36m0:00:00\u001b[0m\n",
            "\u001b[2K   \u001b[90m━━━━━━━━━━━━━━━━━━━━━━━━━━━━━━━━━━━━━━━━\u001b[0m \u001b[32m119.2/119.2 kB\u001b[0m \u001b[31m8.8 MB/s\u001b[0m eta \u001b[36m0:00:00\u001b[0m\n",
            "\u001b[2K   \u001b[90m━━━━━━━━━━━━━━━━━━━━━━━━━━━━━━━━━━━━━━━━\u001b[0m \u001b[32m45.4/45.4 kB\u001b[0m \u001b[31m3.1 MB/s\u001b[0m eta \u001b[36m0:00:00\u001b[0m\n",
            "\u001b[2K   \u001b[90m━━━━━━━━━━━━━━━━━━━━━━━━━━━━━━━━━━━━━━━━\u001b[0m \u001b[32m74.0/74.0 kB\u001b[0m \u001b[31m4.9 MB/s\u001b[0m eta \u001b[36m0:00:00\u001b[0m\n",
            "\u001b[?25h  Building wheel for fasttext-langdetect (setup.py) ... \u001b[?25l\u001b[?25hdone\n",
            "  Building wheel for syncer (setup.py) ... \u001b[?25l\u001b[?25hdone\n"
          ]
        }
      ],
      "source": [
        "!git clone https://github.com/wandb/edu.git\n",
        "%cd edu/rag-advanced\n",
        "!pip install -qqq -r requirements.txt\n",
        "%cd notebooks\n",
        "\n",
        "import nltk\n",
        "\n",
        "nltk.download(\"wordnet\")"
      ]
    },
    {
      "cell_type": "markdown",
      "metadata": {
        "id": "KKmaXZhMxZ5A"
      },
      "source": [
        "Now we are ready to start the chapter.\n",
        "\n",
        "We will start by logging into Weights & Biases and setup the API keys in the environment. You should be able to get your Cohere API key from [here](https://dashboard.cohere.com/api-keys)."
      ]
    },
    {
      "cell_type": "code",
      "execution_count": null,
      "metadata": {
        "id": "znewVnoPxZ5A"
      },
      "outputs": [],
      "source": [
        "import getpass\n",
        "import os\n",
        "\n",
        "import wandb\n",
        "\n",
        "os.environ[\"COHERE_API_KEY\"] = getpass.getpass(\"Please enter your COHERE_API_KEY\")\n",
        "wandb.login()"
      ]
    },
    {
      "cell_type": "code",
      "execution_count": null,
      "metadata": {
        "id": "mZp1RwLBxZ5A"
      },
      "outputs": [],
      "source": [
        "import pathlib\n",
        "from typing import List\n",
        "\n",
        "import weave\n",
        "\n",
        "from scripts.utils import display_source"
      ]
    },
    {
      "cell_type": "markdown",
      "metadata": {
        "id": "aPRM-kcvxZ5B"
      },
      "source": [
        "Here, we will start a Weights & Biases run. We will be using this to download a [W&B Artifact](https://docs.wandb.ai/guides/artifacts) called `wandb_docs`. This is the raw Weights & Biases documentation. W&B Artifacts is suited for versiong different data sources which needs preprocessing/cleaning."
      ]
    },
    {
      "cell_type": "code",
      "execution_count": null,
      "metadata": {
        "id": "KNcx4KBuxZ5B"
      },
      "outputs": [],
      "source": [
        "WANDB_PROJECT = \"rag-course\"\n",
        "\n",
        "run = wandb.init(\n",
        "    project=WANDB_PROJECT,\n",
        "    group=\"Chapter 1\",\n",
        ")"
      ]
    },
    {
      "cell_type": "markdown",
      "metadata": {
        "id": "OpvMKkIzxZ5B"
      },
      "source": [
        "## Data ingestion\n",
        "\n",
        "### Loading the data\n",
        "\n",
        "Use [W&B Artifacts](https://docs.wandb.ai/guides/artifacts) to track and version data as the inputs and outputs of your W&B Runs. For example, a model training run might take in a dataset as input and produce a trained model as output. W&B Artifacts is a powerful object storage with rich UI functionalities.\n",
        "\n",
        "Below we are downloading an artifact named `wandb_docs` which will download 400 odd markdown files in your `../data/wandb_docs` directory. This is will be our data source."
      ]
    },
    {
      "cell_type": "code",
      "execution_count": null,
      "metadata": {
        "id": "YJFAcjxixZ5C"
      },
      "outputs": [],
      "source": [
        "documents_artifact = run.use_artifact(\n",
        "    f\"rag-course/dev/wandb_docs:latest\", type=\"dataset\"\n",
        ")\n",
        "data_dir = \"../data/wandb_docs\"\n",
        "\n",
        "docs_dir = documents_artifact.download(data_dir)"
      ]
    },
    {
      "cell_type": "markdown",
      "metadata": {
        "id": "1dNZVlL5xZ5D"
      },
      "source": [
        "Let's inspect the `../data/wandb_docs` directory and look at the names of the first 5 files. We should see that they are all in markdown (`.md`) file format."
      ]
    },
    {
      "cell_type": "code",
      "execution_count": null,
      "metadata": {
        "id": "ZxUquS41xZ5D"
      },
      "outputs": [],
      "source": [
        "docs_dir = pathlib.Path(docs_dir)\n",
        "docs_files = sorted(docs_dir.rglob(\"*.md\"))\n",
        "\n",
        "print(f\"Number of files: {len(docs_files)}\\n\")\n",
        "print(\"First 5 files:\\n{files}\".format(files=\"\\n\".join(map(str, docs_files[:5]))))"
      ]
    },
    {
      "cell_type": "markdown",
      "metadata": {
        "id": "g15kHLEKxZ5D"
      },
      "source": [
        "Lets look at an example file. We can take the first element of the list (`docs_files`) and use the `Path.read_text` method to get the decoded contents of the file as a string."
      ]
    },
    {
      "cell_type": "code",
      "execution_count": null,
      "metadata": {
        "id": "opLHJaeCxZ5E"
      },
      "outputs": [],
      "source": [
        "print(docs_files[0].read_text())"
      ]
    },
    {
      "cell_type": "markdown",
      "metadata": {
        "id": "5cnZp79jxZ5E"
      },
      "source": [
        "💡 Looking at the example, we see some structure and format to it.\n",
        "\n",
        "It is always a good practice to look through few examples to see if there is any pattern to your data source.\n",
        "It helps to come up with better preprocessing steps and chunking strategies."
      ]
    },
    {
      "cell_type": "markdown",
      "metadata": {
        "id": "78yan20wxZ5E"
      },
      "source": [
        "Now, let's store our documents as dictionaries with content (raw text) and metadata.\n",
        "\n",
        "Metadata is extra information for that data point which can be used to group together similar data points, or filter out a few data points.\n",
        "We will see in future chapters the importance of metadata and why it should not be ignored while building the ingestion pipeline.\n",
        "\n",
        "The metadata can be derived (`raw_tokens`) or is inherent (`source`) to the data point.\n",
        "\n",
        "Note that we are simply doing word counting and calling it `raw_tokens`.\n",
        "In practice we would be using a [tokenizer](https://docs.cohere.com/docs/tokens-and-tokenizers) to calculate the token counts but this naive calculation is an okay approximation for now."
      ]
    },
    {
      "cell_type": "code",
      "execution_count": null,
      "metadata": {
        "id": "gFU7Lzk2xZ5E"
      },
      "outputs": [],
      "source": [
        "# We'll store the files as dictionaries with some content and metadata\n",
        "data = []\n",
        "for file in docs_files:\n",
        "    content = file.read_text()\n",
        "    data.append(\n",
        "        {\n",
        "            \"content\": content,\n",
        "            \"metadata\": {\n",
        "                \"source\": str(file.relative_to(docs_dir)),\n",
        "                \"raw_tokens\": len(content.split()),\n",
        "            },\n",
        "        }\n",
        "    )\n",
        "data[:2]"
      ]
    },
    {
      "cell_type": "markdown",
      "metadata": {
        "id": "QTi6SwMoxZ5E"
      },
      "source": [
        "Checking the total number of tokens of your data source is a good practice. In this case, the total tokens is more than 200k. Surely, most LLM providers cannot process this many tokens. Building a RAG is justified in such cases."
      ]
    },
    {
      "cell_type": "code",
      "execution_count": null,
      "metadata": {
        "id": "K5TSeTJsxZ5E"
      },
      "outputs": [],
      "source": [
        "total_tokens = sum(map(lambda x: x[\"metadata\"][\"raw_tokens\"], data))\n",
        "print(f\"Total Tokens in dataset: {total_tokens}\")"
      ]
    },
    {
      "cell_type": "markdown",
      "metadata": {
        "id": "LnGDksmCxZ5E"
      },
      "source": [
        "## W&B Weave\n",
        "\n",
        "In the previous section we used W&B Artifacts to download the source documents.\n",
        "\n",
        "We could have used it to log our processed data but instead we will use W&B Weave for the task.\n",
        "\n",
        "Why?\n",
        "\n",
        "- W&B Weave is standalone and doesn't need backward compatibility with core Weights & Biases offerings.\n",
        "- W&B Weave is designed for modern LLMOps use case.\n",
        "- We would like to keep the data, \"models\" (function, API, collection of parser, extrators, and more) and evaluators in \"one single source of truth\" managed by W&B Weave.\n",
        "\n",
        "What?\n",
        "\n",
        "W&B Weave is a lightweight toolkit for tracking and evaluating LLM applications:\n",
        "\n",
        "- Log and debug language model inputs, outputs, and traces\n",
        "- Build rigorous, apples-to-apples evaluations for language model use cases\n",
        "- Organize all the information generated across the LLM workflow, from experimentation to evaluations to production\n",
        "\n",
        "\n",
        "The newly created list of dictionaries with `content` and `metadata` will now be logged as a W&B Weave Dataset called `raw_data`. Notice that our processed data is a list of dicts.\n",
        "\n",
        "Let's initialize W&B Weave. Once intialized, we will start tracking (more on it later) the inputs and the outputs along with underlying attributes (model name, top_k, etc.)."
      ]
    },
    {
      "cell_type": "code",
      "execution_count": null,
      "metadata": {
        "id": "Iu6_gluLxZ5E"
      },
      "outputs": [],
      "source": [
        "WANDB_PROJECT = \"rag-course\"\n",
        "\n",
        "weave_client = weave.init(WANDB_PROJECT)"
      ]
    },
    {
      "cell_type": "code",
      "execution_count": null,
      "metadata": {
        "id": "8kAl2OeCxZ5F"
      },
      "outputs": [],
      "source": [
        "# build weave dataset\n",
        "raw_data = weave.Dataset(name=\"raw_data\", rows=data)\n",
        "\n",
        "# publish the dataset\n",
        "weave.publish(raw_data)"
      ]
    },
    {
      "cell_type": "markdown",
      "metadata": {
        "id": "9Ul0h-B8xZ5F"
      },
      "source": [
        "![raw_data](https://github.com/wandb/edu/blob/main/rag-advanced/images/01_raw_data.png?raw=1)"
      ]
    },
    {
      "cell_type": "markdown",
      "metadata": {
        "id": "SqooSe61xZ5F"
      },
      "source": [
        "### Chunking the data\n",
        "\n",
        "Each document contains a large number of tokens, so we need to split it into smaller chunks to manage the number of tokens per chunk. This approach serves three main purposes:\n",
        "\n",
        "* Most embedding models have a limit of 512 tokens per input (based on their training data and parameters).\n",
        "\n",
        "* Chunking allows us to retrieve and send only the most relevant portions to our LLM, significantly reducing the total token count. This helps keep the LLM's cost and processing time manageable.\n",
        "\n",
        "* When the text is small-sized, embedding models tend to generate better vectors as they can capture more fine-grained details and nuances in the text, resulting in more accurate representations.\n",
        "\n",
        "When choosing chunk size, consider these trade-offs:\n",
        "\n",
        "- Smaller chunks (100-200 tokens):\n",
        "  * More precise retrieval\n",
        "  * Better for finding specific details\n",
        "  * May lack broader context\n",
        "\n",
        "- Larger chunks (500-1000 tokens):\n",
        "  * Provide more context\n",
        "  * Capture more coherent ideas\n",
        "  * May introduce noise and reduce precision\n",
        "\n",
        "The optimal size depends on your data, expected queries, and model capabilities. Experiment with different sizes to find the best balance for your use case.\n",
        "\n",
        "Here we are chunking each content (text) to a maximum length of 300 tokens (`CHUNK_SIZE`).\n",
        "For now, we will not be overlapping (`CHUNK_OVERLAP`) the content of one chunk with another chunk."
      ]
    },
    {
      "cell_type": "code",
      "execution_count": null,
      "metadata": {
        "id": "qaLV1rd-xZ5F"
      },
      "outputs": [],
      "source": [
        "# These are hyperparameters of our ingestion pipeline\n",
        "\n",
        "CHUNK_SIZE = 300\n",
        "CHUNK_OVERLAP = 0\n",
        "\n",
        "\n",
        "def split_into_chunks(\n",
        "    text: str, chunk_size: int = CHUNK_SIZE, chunk_overlap: int = CHUNK_OVERLAP\n",
        ") -> List[str]:\n",
        "    \"\"\"Function to split the text into chunks of a maximum number of tokens\n",
        "    ensure that the chunks are of size CHUNK_SIZE and overlap by chunk_overlap tokens\n",
        "    use the `tokenizer.encode` method to tokenize the text\n",
        "    \"\"\"\n",
        "    tokens = text.split()\n",
        "    chunks = []\n",
        "    start = 0\n",
        "    while start < len(tokens):\n",
        "        end = start + chunk_size\n",
        "        chunk = tokens[start:end]\n",
        "        chunks.append(\" \".join(chunk))\n",
        "        start = end - chunk_overlap\n",
        "    return chunks"
      ]
    },
    {
      "cell_type": "markdown",
      "metadata": {
        "id": "v-jrpsPexZ5F"
      },
      "source": [
        "We will use the `raw_data` artifact we just published as W&B Weave Dataset as the input to the chunking function."
      ]
    },
    {
      "cell_type": "code",
      "execution_count": null,
      "metadata": {
        "id": "fG0aLn3NxZ5F"
      },
      "outputs": [],
      "source": [
        "# download the `raw_data` Dataset\n",
        "raw_data = weave.ref(\n",
        "    \"weave:///rag-course/rag-course/object/raw_data:nuZosGsP58MXKxhluN2hzvKK9XB8xSxlTuOBmEzWzLo\"\n",
        ").get()\n",
        "# uncomment the next line to get the raw data from weave from your own project instead\n",
        "# raw_data = weave.ref(\"raw_data:v0\").get()\n",
        "\n",
        "# this is how we index into the data\n",
        "print(raw_data.rows[:2])"
      ]
    },
    {
      "cell_type": "markdown",
      "metadata": {
        "id": "PoUTqxAtxZ5F"
      },
      "source": [
        "A Weave Dataset is compatible with the rest of the Weave workflow and is pythonic."
      ]
    },
    {
      "cell_type": "markdown",
      "metadata": {
        "id": "-03yBFfqxZ5F"
      },
      "source": [
        "Let us chunk each document in the raw data Artifact. We create a new list of dictionaries with the chuked text (`content`) and with `metadata`."
      ]
    },
    {
      "cell_type": "code",
      "execution_count": null,
      "metadata": {
        "id": "CucT1yzkxZ5F"
      },
      "outputs": [],
      "source": [
        "chunked_data = []\n",
        "for doc in raw_data.rows:\n",
        "    chunks = split_into_chunks(doc[\"content\"])\n",
        "    for chunk in chunks:\n",
        "        chunked_data.append(\n",
        "            {\n",
        "                \"content\": chunk,\n",
        "                \"metadata\": {\n",
        "                    \"source\": doc[\"metadata\"][\"source\"],\n",
        "                    \"raw_tokens\": len(chunk.split()),\n",
        "                },\n",
        "            }\n",
        "        )\n",
        "\n",
        "print(chunked_data[:2])"
      ]
    },
    {
      "cell_type": "markdown",
      "metadata": {
        "id": "ihzlvdVmxZ5F"
      },
      "source": [
        "### Cleaning the data\n",
        "\n",
        "Cleaning up data is crucial for most AI pipelines and applies to a RAG/Agentic pipeline as well.\n",
        "Usually, higher quality chunks provided to an LLM generates a higher quality response.\n",
        "\n",
        "here, it is particularly important for several reasons:\n",
        "\n",
        "- **Tokenization issues**: Special tokens can interfere with the model's tokenization process, leading to unexpected interpretations of the text.\n",
        "- **Vocabulary pollution**: Unusual tokens can inflate the model's vocabulary, potentially diluting the importance of meaningful terms.\n",
        "- **Semantic distortion**: Special characters or formatting tokens (e.g., HTML tags) can alter the semantic meaning of sentences if not properly handled.\n",
        "- **Consistency**: Removing or standardizing special tokens ensures consistent representation across different data sources.\n",
        "- **Model efficiency**: Cleaner data often leads to more efficient model training and inference, as the model doesn't need to process irrelevant tokens.\n",
        "\n",
        "By cleaning the data, we ensure that our model focuses on the meaningful content rather than artifacts or noise in the text.\n",
        "\n",
        "We will use a simple function `make_text_tokenization_safe` to remove special tokens from the text.\n",
        "This is a good practice as most LLM providers do not like special tokens in the text."
      ]
    },
    {
      "cell_type": "code",
      "execution_count": null,
      "metadata": {
        "id": "A729O8ghxZ5F"
      },
      "outputs": [],
      "source": [
        "from scripts.preprocess import make_text_tokenization_safe\n",
        "\n",
        "display_source(make_text_tokenization_safe)"
      ]
    },
    {
      "cell_type": "code",
      "execution_count": null,
      "metadata": {
        "id": "U04fKiGVxZ5F"
      },
      "outputs": [],
      "source": [
        "cleaned_data = []\n",
        "for doc in chunked_data:\n",
        "    cleaned_doc = doc.copy()\n",
        "    cleaned_doc[\"cleaned_content\"] = make_text_tokenization_safe(doc[\"content\"])\n",
        "    cleaned_doc[\"metadata\"][\"cleaned_tokens\"] = len(\n",
        "        cleaned_doc[\"cleaned_content\"].split()\n",
        "    )\n",
        "    cleaned_data.append(cleaned_doc)\n",
        "print(cleaned_data[:2])"
      ]
    },
    {
      "cell_type": "markdown",
      "metadata": {
        "id": "KhT6dSZBxZ5F"
      },
      "source": [
        "Again we will store the cleaned data as a Weave Dataset named `chunked_data`."
      ]
    },
    {
      "cell_type": "code",
      "execution_count": null,
      "metadata": {
        "id": "GVGTOur2xZ5G"
      },
      "outputs": [],
      "source": [
        "dataset = weave.Dataset(name=\"chunked_data\", rows=cleaned_data)\n",
        "weave.publish(dataset)"
      ]
    },
    {
      "cell_type": "markdown",
      "metadata": {
        "id": "VmQxZw_vxZ5G"
      },
      "source": [
        "![chunked_data](https://github.com/wandb/edu/blob/main/rag-advanced/images/01_chunked_data.png?raw=1)"
      ]
    },
    {
      "cell_type": "markdown",
      "metadata": {
        "id": "P4fT4tnhxZ5G"
      },
      "source": [
        "## Vectorizing the data\n",
        "\n",
        "One of the key ingredient of most retrieval systems is to represent the given modality (text in our case) as a vector.\n",
        "\n",
        "This vector is a numerical representation representing the \"content\" of that modality (text).\n",
        "\n",
        "Text vectorization (text to vector) can be done using various techniques like [bag-of-words](https://en.wikipedia.org/wiki/Bag-of-words_model), [TF-IDF](https://en.wikipedia.org/wiki/Tf–idf) (Term Frequency-Inverse Document Frequency), and embeddings like [Word2Vec](https://en.wikipedia.org/wiki/Word2vec), [GloVe](https://nlp.stanford.edu/projects/glove/), and transformer based architectures like BERT and more, which capture the semantic meaning and relationships between words or sentences.\n",
        "\n",
        "\n",
        "In this chapter, we'll use TF-IDF (Term Frequency-Inverse Document Frequency) for vectorizing our contents. Here's why:\n",
        "\n",
        "- **Simplicity**: TF-IDF is straightforward to implement and understand, making it an excellent starting point for RAG systems.\n",
        "- **Efficiency**: It's computationally lightweight, allowing for quick processing of large document collections.\n",
        "- **No training required**: Unlike embedding models, TF-IDF doesn't need pre-training, making it easy to get started quickly.\n",
        "- **Interpretability**: The resulting vectors are directly related to word frequencies, making them easy to interpret.\n",
        "\n",
        "While more advanced methods like embeddings often provide better performance, especially for semantic understanding, we'll explore these in later chapters as we progress through the course.\n",
        "\n",
        "Let's download the `cleaned_data` artifact and use it to generate vectors for our chunks."
      ]
    },
    {
      "cell_type": "code",
      "execution_count": null,
      "metadata": {
        "id": "MY45XdbcxZ5G"
      },
      "outputs": [],
      "source": [
        "chunked_data = weave.ref(\n",
        "    \"weave:///rag-course/rag-course/object/chunked_data:Lt6M8qCUICD1JZTlMYzuDLTVtvFYESxvj3tcAIoPrtE\"\n",
        ").get()\n",
        "# uncomment the next line to get the chunked data from weave from your own project instead\n",
        "# chunked_data = weave.ref(\"chunked_data:v0\").get()\n",
        "print(chunked_data.rows[:2])"
      ]
    },
    {
      "cell_type": "markdown",
      "metadata": {
        "id": "jzMNkoLWxZ5G"
      },
      "source": [
        "Next, we will create a simple `Retriever` class. This class is responsible for vectorizing the chunks using the `index_data` method and provides a convenient method `search`, for querying the vector index using cosine distance similarity.\n",
        "\n",
        "- `index_data` will take a list of chunks and vectorize it using TF-IDF and store it as `index`.\n",
        "\n",
        "- `search` will take a `query` (question) and vectorize it using the same technique (TF-IDF in our case). It then computes the cosine distance between the query vector and the index (list of vectors) and pick the top `k` vectors from the index. These top `k` vectors represent the chunks that are closest (most relevant) to the `query`.\n",
        "\n",
        "---\n",
        "\n",
        "Note that the `Retriever` class is inherited from `weave.Model`.\n",
        "\n",
        "A Model is a combination of data (which can include configuration, trained model weights, or other information) and code that defines how the model operates. By structuring your code to be compatible with this API, you benefit from a structured way to version your application so you can more systematically keep track of your experiments.\n",
        "\n",
        "To create a model in Weave, you need the following:\n",
        "\n",
        "- a class that inherits from weave.Model\n",
        "- type definitions on all attributes\n",
        "- a typed `predict`, `infer` or `forward` method with `@weave.op()` decorator.\n",
        "\n",
        "Imagine `weave.op()` to be a drop in replacement for `print` or logging statement.\n",
        "However, it does a lot more than just printing and logging by tracking the inputs and outputs of the function and storing them as Weave objects. In addition to state tracking you also get a nice weave UI to inspect the inputs, outputs, and other metadata.\n",
        "\n",
        "If you have not initialized a weave run by doing `weave.init`, the code will work as it is without any tracking.\n",
        "\n",
        "The `predict` method decorated with `weave.op()` will track the model settings along with the inputs and outputs anytime you call it."
      ]
    },
    {
      "cell_type": "code",
      "execution_count": null,
      "metadata": {
        "id": "92A_Yz9MxZ5G"
      },
      "outputs": [],
      "source": [
        "from scripts.retriever import TFIDFRetriever\n",
        "\n",
        "display_source(TFIDFRetriever)"
      ]
    },
    {
      "cell_type": "markdown",
      "metadata": {
        "id": "cZR5wyoAxZ5K"
      },
      "source": [
        "This simple TF-IDF based retriever serves as a good starting point, but for more complex applications, it can be extended or improved in several ways:\n",
        "\n",
        "- **Semantic search**: Implement embedding-based retrieval using dense vectors for better semantic understanding.\n",
        "- **Hybrid retrieval**: Combine TF-IDF with embedding-based methods to balance lexical and semantic matching.\n",
        "- **Query expansion**: Incorporate techniques like automatic query expansion to improve recall.\n",
        "- **Document ranking**: Implement more sophisticated ranking algorithms, such as BM25 and re-ranking models.\n",
        "- **Scalability**: For larger datasets, consider using approximate nearest neighbor search techniques or vector databases.\n",
        "\n",
        "As we progress through the course, we'll explore some of these concepts and gradually enhance our retriever to make it more robust and efficient for real-world applications."
      ]
    },
    {
      "cell_type": "markdown",
      "metadata": {
        "id": "5dzCwUGzxZ5K"
      },
      "source": [
        "Now, let's see our `TFIDFRetriever` in action. We will index our chunked data and then query the retriever to fetch related chunks from the index."
      ]
    },
    {
      "cell_type": "code",
      "execution_count": null,
      "metadata": {
        "id": "Kt9YOj3TxZ5K"
      },
      "outputs": [],
      "source": [
        "retriever = TFIDFRetriever()\n",
        "retriever.index_data(list(map(dict, chunked_data.rows)))"
      ]
    },
    {
      "cell_type": "code",
      "execution_count": null,
      "metadata": {
        "id": "2V7M7lfdxZ5L"
      },
      "outputs": [],
      "source": [
        "query = \"How do I use W&B to log metrics in my training script?\"\n",
        "search_results = retriever.search(query)\n",
        "for result in search_results:\n",
        "    print(result)"
      ]
    },
    {
      "cell_type": "markdown",
      "metadata": {
        "id": "i6xS4c_NxZ5L"
      },
      "source": [
        "## Generating a response\n",
        "\n",
        "There are two components of any RAG pipeline - a `Retriever` and a `ResponseGenerator`. Earlier, we designed a simple retriever. Here we are designing a simple `ResponseGenerator`.\n",
        "\n",
        "The `generate_response` method takes the user question along with the retrieved context (chunks) as inputs and makes a LLM call using the `model` and `prompt` (system prompt). This way the generated answer is grounded on the documentation (our usecase). In this course we are using Cohere's `command-r` model.\n",
        "\n",
        "As earlier, we have wrapped this `ResponseGenerator` class with weave for tracking the inputs and the output."
      ]
    },
    {
      "cell_type": "code",
      "execution_count": null,
      "metadata": {
        "id": "SpD55ON_xZ5L"
      },
      "outputs": [],
      "source": [
        "from scripts.response_generator import SimpleResponseGenerator\n",
        "\n",
        "display_source(SimpleResponseGenerator)"
      ]
    },
    {
      "cell_type": "markdown",
      "metadata": {
        "id": "32E4zudVxZ5L"
      },
      "source": [
        "Below is the system prompt. Consider this to be set of instructions on what to do with the user question and the retrieved contexts. In practice, the system prompt can be very detailed and involved (depending on the usecase) but we are showing a simple prompt. Later we will iterate on it and show how improving the system prompt improves the quality of the generated response."
      ]
    },
    {
      "cell_type": "code",
      "execution_count": null,
      "metadata": {
        "id": "XRLzlJfoxZ5L"
      },
      "outputs": [],
      "source": [
        "INITIAL_PROMPT = open(\"prompts/initial_system.txt\", \"r\").read()\n",
        "print(INITIAL_PROMPT)"
      ]
    },
    {
      "cell_type": "markdown",
      "metadata": {
        "id": "BBr9kHCpxZ5L"
      },
      "source": [
        "Let's generate the response for the question \"How do I use Weights & Biases to log metrics in my training script?\". We have already retrieved the context in the previous section and passing both the question and the context to the `generate_response` method."
      ]
    },
    {
      "cell_type": "code",
      "execution_count": null,
      "metadata": {
        "id": "IWscMFPtxZ5L"
      },
      "outputs": [],
      "source": [
        "response_generator = SimpleResponseGenerator(model=\"command-r\", prompt=INITIAL_PROMPT)\n",
        "answer = response_generator.generate_response(query, search_results)\n",
        "print(answer)"
      ]
    },
    {
      "cell_type": "markdown",
      "metadata": {
        "id": "wnmAzla4xZ5L"
      },
      "source": [
        "## Simple Retrieval Augmented Generation (RAG) Pipeline\n",
        "\n",
        "Finally, we will bring everything together. As stated earlier, a RAG pipeline primarily consists of a retriever and a response generator.\n",
        "\n",
        "We define a class `SimpleRAGPipeline` which combines the steps of retrieval and response generation.\n",
        "\n",
        "We'll define a `predict` method that takes the user query, retrieves relevant context using the retriever and finally synthesizes a response using the response generator.\n",
        "\n",
        "We'll also define a few convinence methods to format the documents retrieved from the retriever and create a system prompt for the response generator."
      ]
    },
    {
      "cell_type": "code",
      "execution_count": null,
      "metadata": {
        "id": "0iVkYrvqxZ5L"
      },
      "outputs": [],
      "source": [
        "from scripts.rag_pipeline import SimpleRAGPipeline\n",
        "\n",
        "display_source(SimpleRAGPipeline)"
      ]
    },
    {
      "cell_type": "markdown",
      "metadata": {
        "id": "HdMAXjSexZ5L"
      },
      "source": [
        "Let us initialize the `RAGPipeline`."
      ]
    },
    {
      "cell_type": "code",
      "execution_count": null,
      "metadata": {
        "id": "lnDzTqwNxZ5L"
      },
      "outputs": [],
      "source": [
        "# Initialize the response generator\n",
        "response_generator = SimpleResponseGenerator(model=\"command-r\", prompt=INITIAL_PROMPT)\n",
        "\n",
        "# Bring them together as a RAG pipeline\n",
        "rag_pipeline = SimpleRAGPipeline(\n",
        "    retriever=retriever, response_generator=response_generator, top_k=5\n",
        ")"
      ]
    },
    {
      "cell_type": "code",
      "execution_count": null,
      "metadata": {
        "id": "PWikxtCGxZ5L"
      },
      "outputs": [],
      "source": [
        "response = rag_pipeline.predict(\"How do I get get started with wandb?\")\n",
        "print(response, sep=\"\\n\")"
      ]
    },
    {
      "cell_type": "markdown",
      "metadata": {
        "id": "H13i0vH8xZ5M"
      },
      "source": [
        "Click on the link starting with a 🍩. This is the trace timeline for all the executions that happened in our simple RAG application. Go to the link and drill down to find everything that got tracked.\n",
        "\n",
        "![weave trace timeline](https://github.com/wandb/edu/blob/main/rag-advanced/images/01_weave_trace_timeline.png?raw=1)"
      ]
    },
    {
      "cell_type": "markdown",
      "metadata": {
        "id": "Lpp-m4AgxZ5M"
      },
      "source": [
        "## Key Takeaways\n",
        "\n",
        "In this chapter, we've built a simple RAG pipeline from scratch. Here's what we've learned:\n",
        "\n",
        "- **Data Processing**: How to ingest, chunk, and clean data using W&B Artifacts and Weave\n",
        "- **Retrieval**: Implementing a basic TF-IDF based retriever\n",
        "- **Response Generation**: Using Cohere's API and `command-r` model to generate responses based on retrieved context\n",
        "- **RAG Pipeline**: Combining retrieval and generation into a cohesive system\n",
        "- **Logging and Tracking**: Utilizing W&B Weave for efficient experiment tracking"
      ]
    }
  ],
  "metadata": {
    "colab": {
      "provenance": [],
      "toc_visible": true
    },
    "kernelspec": {
      "display_name": "rag-edu",
      "language": "python",
      "name": "python3"
    }
  },
  "nbformat": 4,
  "nbformat_minor": 0
}